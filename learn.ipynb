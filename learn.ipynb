{
 "cells": [
  {
   "cell_type": "code",
   "execution_count": 2,
   "metadata": {},
   "outputs": [],
   "source": [
    "import numpy as np\n",
    "import random\n",
    "import tensorflow as tf\n",
    "import env as environment\n",
    "import perceptron"
   ]
  },
  {
   "cell_type": "code",
   "execution_count": 3,
   "metadata": {},
   "outputs": [],
   "source": [
    "env = environment.ShoprEnv()\n",
    "tf.reset_default_graph()"
   ]
  },
  {
   "cell_type": "code",
   "execution_count": 4,
   "metadata": {},
   "outputs": [],
   "source": [
    "# Parameters\n",
    "learning_rate = 0.1\n",
    "num_episodes = 200\n",
    "eps = 0.1\n",
    "discount = 0.9\n",
    "\n",
    "# Network Parameters\n",
    "n_hidden_1 = 8 # 1st layer number of nodes\n",
    "n_hidden_2 = 8 # 2nd layer number of nodes\n",
    "n_input = 8 # input layer (basket state)\n",
    "n_output = 9 # output layer (q values for actions)"
   ]
  },
  {
   "cell_type": "code",
   "execution_count": 5,
   "metadata": {},
   "outputs": [],
   "source": [
    "# Store layers weight & bias\n",
    "weights = {\n",
    "    'h1': tf.Variable(tf.random_normal([n_input, n_hidden_1])),\n",
    "    'h2': tf.Variable(tf.random_normal([n_hidden_1, n_hidden_2])),\n",
    "    'out': tf.Variable(tf.random_normal([n_hidden_2, n_output]))\n",
    "}\n",
    "biases = {\n",
    "    'b1': tf.Variable(tf.random_normal([n_hidden_1])),\n",
    "    'b2': tf.Variable(tf.random_normal([n_hidden_2])),\n",
    "    'out': tf.Variable(tf.random_normal([n_output]))\n",
    "}\n",
    "\n",
    "# Graph input\n",
    "inputs = tf.placeholder(shape=[1,n_input],dtype=tf.float32)\n",
    "\n",
    "# Construct output\n",
    "current_output = perceptron.multilayer_perceptron(inputs, weights, biases)\n",
    "qmax_action = tf.argmax(current_output,1)\n",
    "target_output = tf.placeholder(shape=[1,n_output],dtype=tf.float32)"
   ]
  },
  {
   "cell_type": "code",
   "execution_count": 6,
   "metadata": {},
   "outputs": [],
   "source": [
    "# Define loss and trainer\n",
    "loss = tf.reduce_sum(tf.square(target_output - current_output))\n",
    "trainer = tf.train.GradientDescentOptimizer(learning_rate=learning_rate)\n",
    "updateModel = trainer.minimize(loss)"
   ]
  },
  {
   "cell_type": "code",
   "execution_count": 7,
   "metadata": {},
   "outputs": [],
   "source": [
    "init = tf.initialize_all_variables()"
   ]
  },
  {
   "cell_type": "code",
   "execution_count": 1,
   "metadata": {},
   "outputs": [],
   "source": [
    "# Create lists to contain total rewards and steps per episode\n",
    "jList = []\n",
    "rList = []\n",
    "with tf.Session() as sess:\n",
    "    sess.run(init)\n",
    "    for i in range(num_episodes):\n",
    "        # Reset environment and get first new observation\n",
    "        s = env.reset()\n",
    "        rTotal = 0\n",
    "        d = False\n",
    "        j = 0\n",
    "        # The q-network\n",
    "        while j < 99:\n",
    "            print(j)\n",
    "            j+=1\n",
    "            # Choose an action greedily (with e chance of random action) from the Q-network\n",
    "            a,q = sess.run([qmax_action,current_output],feed_dict={inputs:[s]})\n",
    "            print(a)\n",
    "            if np.random.rand(1) < eps:\n",
    "                print('eps bit')\n",
    "                a[0] = env.sample_action()\n",
    "            # Get new state and reward from environment\n",
    "            s1,r,d,_ = env.step(a[0])\n",
    "            # Obtain the Q' values by feeding the new state through our network\n",
    "            q_prime = sess.run(current_output,feed_dict={inputs:[s1]})\n",
    "            # Obtain max Q' and set our target value for chosen action\n",
    "            max_q_prime = np.max(q_prime)\n",
    "            target_q = q\n",
    "            target_q[0,a[0]] = r + discount * max_q_prime\n",
    "            # Train our network using target and predicted Q values\n",
    "            _ = sess.run([updateModel],feed_dict={inputs:[s],target_output:target_q})\n",
    "            rTotal += r\n",
    "            s = s1\n",
    "            if d == True:\n",
    "                # Reduce chance of random action as we train the model.\n",
    "                eps = 1./((i/50) + 10)\n",
    "                break\n",
    "        jList.append(j)\n",
    "        rList.append(rTotal)"
   ]
  }
 ],
 "metadata": {
  "kernelspec": {
   "display_name": "Python 2",
   "language": "python",
   "name": "python2"
  },
  "language_info": {
   "codemirror_mode": {
    "name": "ipython",
    "version": 2.0
   },
   "file_extension": ".py",
   "mimetype": "text/x-python",
   "name": "python",
   "nbconvert_exporter": "python",
   "pygments_lexer": "ipython2",
   "version": "2.7.6"
  }
 },
 "nbformat": 4,
 "nbformat_minor": 0
}